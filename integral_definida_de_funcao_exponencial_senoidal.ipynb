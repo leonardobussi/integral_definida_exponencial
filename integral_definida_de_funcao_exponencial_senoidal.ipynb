{
 "cells": [
  {
   "cell_type": "code",
   "execution_count": 2,
   "metadata": {},
   "outputs": [],
   "source": [
    "from sympy import Integral, N, Symbol, exp, sin"
   ]
  },
  {
   "cell_type": "code",
   "execution_count": 3,
   "metadata": {},
   "outputs": [],
   "source": [
    "def calcula_f(x):\n",
    "    return 3 * exp(3 * x) * sin(x / 2)"
   ]
  },
  {
   "cell_type": "code",
   "execution_count": 4,
   "metadata": {},
   "outputs": [],
   "source": [
    "x = Symbol('x')"
   ]
  },
  {
   "cell_type": "code",
   "execution_count": 5,
   "metadata": {},
   "outputs": [],
   "source": [
    "resultado = Integral(calcula_f(x), x).doit()"
   ]
  },
  {
   "cell_type": "code",
   "execution_count": 6,
   "metadata": {},
   "outputs": [
    {
     "name": "stdout",
     "output_type": "stream",
     "text": [
      "integral indefinida da funcao calcula_f\n",
      "resultado 36*exp(3*x)*sin(x/2)/37 - 6*exp(3*x)*cos(x/2)/37\n"
     ]
    }
   ],
   "source": [
    "print('integral indefinida da funcao calcula_f')\n",
    "print('resultado', resultado)"
   ]
  },
  {
   "cell_type": "code",
   "execution_count": 7,
   "metadata": {},
   "outputs": [],
   "source": [
    "resultado = Integral(calcula_f(x), (x, 0, 1)).doit()"
   ]
  },
  {
   "cell_type": "code",
   "execution_count": 10,
   "metadata": {},
   "outputs": [
    {
     "name": "stdout",
     "output_type": "stream",
     "text": [
      "integral definida da função calcula_f para x entre 0 e 1\n",
      "resultado -6*exp(3)*cos(1/2)/37 + 6/37 + 36*exp(3)*sin(1/2)/37\n",
      "resultado com ponto flutuante 6.67303770735055\n"
     ]
    }
   ],
   "source": [
    "print('integral definida da função calcula_f para x entre 0 e 1')\n",
    "print('resultado', resultado)\n",
    "print('resultado com ponto flutuante', N(resultado))"
   ]
  },
  {
   "cell_type": "code",
   "execution_count": null,
   "metadata": {},
   "outputs": [],
   "source": []
  }
 ],
 "metadata": {
  "kernelspec": {
   "display_name": "Python 3",
   "language": "python",
   "name": "python3"
  },
  "language_info": {
   "codemirror_mode": {
    "name": "ipython",
    "version": 3
   },
   "file_extension": ".py",
   "mimetype": "text/x-python",
   "name": "python",
   "nbconvert_exporter": "python",
   "pygments_lexer": "ipython3",
   "version": "3.6.9"
  }
 },
 "nbformat": 4,
 "nbformat_minor": 4
}
